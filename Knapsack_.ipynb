{
  "nbformat": 4,
  "nbformat_minor": 0,
  "metadata": {
    "colab": {
      "name": "Knapsack .ipynb",
      "provenance": [],
      "include_colab_link": true
    },
    "kernelspec": {
      "name": "python3",
      "display_name": "Python 3"
    }
  },
  "cells": [
    {
      "cell_type": "markdown",
      "metadata": {
        "id": "view-in-github",
        "colab_type": "text"
      },
      "source": [
        "<a href=\"https://colab.research.google.com/github/alip990/GA/blob/master/Knapsack_.ipynb\" target=\"_parent\"><img src=\"https://colab.research.google.com/assets/colab-badge.svg\" alt=\"Open In Colab\"/></a>"
      ]
    },
    {
      "cell_type": "code",
      "metadata": {
        "id": "idxmwZrFplvW",
        "colab_type": "code",
        "colab": {}
      },
      "source": [
        ""
      ],
      "execution_count": 0,
      "outputs": []
    },
    {
      "cell_type": "code",
      "metadata": {
        "id": "YtRmrfn1psJ5",
        "colab_type": "code",
        "outputId": "e7f22158-581f-4061-f995-34c4c1947dfd",
        "colab": {
          "base_uri": "https://localhost:8080/",
          "height": 129
        }
      },
      "source": [
        "\n",
        "#items = np.array([[15,15],[3,7],[2,10],[5,5],[9,8],[20,17]],dtype=float) #(wieght,value )\n",
        "from google.colab import drive\n",
        "import os \n",
        "drive.mount('/content/drive')\n",
        "file=open('/content/driCve/My Drive/CI_project/wieghts1.txt')\n",
        "wieghts=[]\n",
        "for i in  list(file):\n",
        "    wieghts.append(int(i))\n",
        "file=open('/content/drive/My Drive/CI_project/values1.txt')\n",
        "values=[]\n",
        "for i in  list(file):\n",
        "    values.append(int(i))\n",
        "    "
      ],
      "execution_count": 0,
      "outputs": [
        {
          "output_type": "stream",
          "text": [
            "Go to this URL in a browser: https://accounts.google.com/o/oauth2/auth?client_id=947318989803-6bn6qk8qdgf4n4g3pfee6491hc0brc4i.apps.googleusercontent.com&redirect_uri=urn%3Aietf%3Awg%3Aoauth%3A2.0%3Aoob&scope=email%20https%3A%2F%2Fwww.googleapis.com%2Fauth%2Fdocs.test%20https%3A%2F%2Fwww.googleapis.com%2Fauth%2Fdrive%20https%3A%2F%2Fwww.googleapis.com%2Fauth%2Fdrive.photos.readonly%20https%3A%2F%2Fwww.googleapis.com%2Fauth%2Fpeopleapi.readonly&response_type=code\n",
            "\n",
            "Enter your authorization code:\n",
            "··········\n",
            "Mounted at /content/drive\n"
          ],
          "name": "stdout"
        }
      ]
    },
    {
      "cell_type": "code",
      "metadata": {
        "id": "cugq6WaapsU1",
        "colab_type": "code",
        "outputId": "8653f890-bac6-4a7f-9d08-6283800a3b52",
        "colab": {
          "base_uri": "https://localhost:8080/",
          "height": 35
        }
      },
      "source": [
        "# Returns the maximum value that can be put in a knapsack of \n",
        "# capacity W \n",
        "def knapSack(W , wt , val , n): \n",
        "  \n",
        "    # Base Case \n",
        "    if n == 0 or W == 0 : \n",
        "        return 0\n",
        "  \n",
        "    # If weight of the nth item is more than Knapsack of capacity \n",
        "    # W, then this item cannot be included in the optimal solution \n",
        "    if (wt[n-1] > W): \n",
        "        return knapSack(W , wt , val , n-1) \n",
        "  \n",
        "    # return the maximum of two cases: \n",
        "    # (1) nth item included \n",
        "    # (2) not included \n",
        "    else: \n",
        "        return max(val[n-1] + knapSack(W-wt[n-1] , wt , val , n-1), \n",
        "                   knapSack(W , wt , val , n-1)) \n",
        "  \n",
        "# end of function knapSack in \n",
        "  \n",
        "# To test above function \n",
        "MAX_WIEGHT=6404180\n",
        "\n",
        "n = len(values) \n",
        "print (knapSack(MAX_WIEGHT , wieghts , values , n))\n",
        "  \n",
        "# This code is contributed by Nikhil Kumar Singh"
      ],
      "execution_count": 0,
      "outputs": [
        {
          "output_type": "stream",
          "text": [
            "13549094\n"
          ],
          "name": "stdout"
        }
      ]
    },
    {
      "cell_type": "code",
      "metadata": {
        "id": "nKk-SIuoqUoj",
        "colab_type": "code",
        "colab": {}
      },
      "source": [
        ""
      ],
      "execution_count": 0,
      "outputs": []
    }
  ]
}